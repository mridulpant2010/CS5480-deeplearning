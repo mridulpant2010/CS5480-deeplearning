{
 "cells": [
  {
   "cell_type": "markdown",
   "metadata": {},
   "source": [
    "## Pytorch tutorial"
   ]
  },
  {
   "cell_type": "code",
   "execution_count": 4,
   "metadata": {},
   "outputs": [
    {
     "name": "stdout",
     "output_type": "stream",
     "text": [
      "`integer` is a 0-d Tensor: 1234\n",
      "`decimal` is a 0-d Tensor: 3.1415927410125732\n",
      "`one_d tensor` is a 1-d Tensor: tensor([1, 2, 3, 4])\n",
      "`2_d tensor` is a 2-d Tensor: tensor([[ 1,  2,  3,  4],\n",
      "        [21, 22, 23, 24]])\n",
      "`count_to_100` is a 1-d Tensor with shape: torch.Size([100])\n"
     ]
    }
   ],
   "source": [
    "import torch.nn as nn\n",
    "import torch\n",
    "\n",
    "integer = torch.tensor(1234)\n",
    "decimal = torch.tensor(3.14159265359)\n",
    "\n",
    "print(f\"`integer` is a {integer.ndim}-d Tensor: {integer}\")\n",
    "print(f\"`decimal` is a {decimal.ndim}-d Tensor: {decimal}\")\n",
    "\n",
    "one_d_tensor = torch.tensor([1,2,3,4])\n",
    "print(f\"`one_d tensor` is a {one_d_tensor.ndim}-d Tensor: {one_d_tensor}\")\n",
    "\n",
    "two_d_tensor = torch.tensor([[1,2,3,4],[21,22,23,24]])\n",
    "print(f\"`2_d tensor` is a {two_d_tensor.ndim}-d Tensor: {two_d_tensor}\")\n",
    "\n",
    "assert two_d_tensor.ndim == 2\n",
    "\n",
    "count_to_100 = torch.tensor(range(100))\n",
    "\n",
    "print(f\"`count_to_100` is a {count_to_100.ndim}-d Tensor with shape: {count_to_100.shape}\") "
   ]
  },
  {
   "cell_type": "code",
   "execution_count": null,
   "metadata": {},
   "outputs": [],
   "source": [
    "#  In image processing and computer vision, we will use 4-d Tensors with dimensions corresponding to batch size, number of color channels, image height, and image width.\n",
    "# what is a batch_size in a 4d tensor.\n",
    "# create a 4d tensor Use torch.zeros to initialize a 4-d Tensor of zeros with size 10 x 3 x 256 x 256. \n",
    "# 10 images with channel of 3 and height and width = 256\n",
    "\n",
    "fourd_array = torch.tensor([[ [[0 for _ in range(256)] for _ in range(256)] for _ in range(3)] for _ in range(10)])\n",
    "\n",
    "assert fourd_array.shape == (10,3,256,256)\n"
   ]
  },
  {
   "cell_type": "code",
   "execution_count": 33,
   "metadata": {},
   "outputs": [
    {
     "name": "stdout",
     "output_type": "stream",
     "text": [
      "c1: 76\n",
      "c2: 76\n",
      "torch.Size([2, 3])\n"
     ]
    }
   ],
   "source": [
    "# Create the nodes in the graph and initialize values\n",
    "a = torch.tensor(15)\n",
    "b = torch.tensor(61)\n",
    "\n",
    "# Add them!\n",
    "c1 = torch.add(a, b)\n",
    "c2 = a + b  # PyTorch overrides the \"+\" operation so that it is able to act on Tensors\n",
    "print(f\"c1: {c1}\")\n",
    "print(f\"c2: {c2}\")\n",
    "\n",
    "\n",
    "import numpy as np\n",
    "# build a tensor of size 2,3\n",
    "matrix_mult = torch.tensor([[ np.random.normal() for _ in range(3)]for _ in range(2)])\n",
    "print(matrix_mult.shape)\n"
   ]
  },
  {
   "cell_type": "code",
   "execution_count": null,
   "metadata": {},
   "outputs": [
    {
     "name": "stdout",
     "output_type": "stream",
     "text": [
      "torch.Size([1, 2]) torch.Size([2, 1])\n",
      "torch.Size([3, 1])\n",
      "torch.Size([1, 3])\n"
     ]
    }
   ],
   "source": [
    "input = torch.tensor([[2,3]])\n",
    "output = torch.tensor([[3.],[4.]])\n",
    "print(input.shape,output.shape)\n",
    "\n",
    "result = torch.matmul(matrix_mult.T,output)\n",
    "print(result.shape)\n",
    "\n",
    "#TODO: transpose a tensor ?\n",
    "print(result.T.shape)"
   ]
  },
  {
   "cell_type": "markdown",
   "metadata": {},
   "source": [
    "## NeuralNetworks in Pytorch\n",
    "\n",
    "- use torch.nn.Module which serves as a base class for all NN modules in pytorch and thus provides a framework \n",
    "- Use a single Module to define our simple NN"
   ]
  },
  {
   "cell_type": "code",
   "execution_count": null,
   "metadata": {},
   "outputs": [
    {
     "name": "stdout",
     "output_type": "stream",
     "text": [
      "x_input shape: torch.Size([2, 1])\n",
      "neural_net shape: torch.Size([2, 3])\n",
      "output of the z matrix is  torch.Size([3, 3])\n",
      "output shape: torch.Size([3, 3])\n",
      "output result: tensor([[0.9749, 0.9780, 0.9834],\n",
      "        [0.9169, 0.9267, 0.9438],\n",
      "        [0.0508, 0.0577, 0.0753]], grad_fn=<SigmoidBackward0>)\n"
     ]
    }
   ],
   "source": [
    "import torch.nn as nn\n",
    "class NeuralNetwork(nn.Module):\n",
    "    def __init__(self,num_inputs,num_outputs):\n",
    "        super(NeuralNetwork,self).__init__()\n",
    "        self.Weight = nn.Parameter(torch.randn(num_inputs,num_outputs)) # what are these initialization in neural network\n",
    "        self.bias = nn.Parameter(torch.randn(num_outputs))    \n",
    "    def forward(self,x):\n",
    "        z = torch.add(torch.matmul(self.Weight.T,x) ,self.bias) # i don't get how this size has gone to 3x3\n",
    "        print(\"output of the z matrix is \",z.shape)\n",
    "        output = torch.sigmoid(z)\n",
    "        return output\n",
    "    \n",
    "num_inputs= 2\n",
    "num_outputs=3\n",
    "neural_net = NeuralNetwork(num_inputs,num_outputs)\n",
    "x_input =  torch.tensor([[2.],[1.]])\n",
    "print(f\"x_input shape: {x_input.shape}\")\n",
    "print(f\"neural_net shape: {neural_net.Weight.shape}\")\n",
    "result = neural_net.forward(x_input)\n",
    "#result = neural_net(torch.tensor([1,2]))\n",
    "print(f\"output shape: {result.shape}\")\n",
    "print(f\"output result: {result}\")"
   ]
  },
  {
   "cell_type": "markdown",
   "metadata": {},
   "source": [
    "## Sequential API\n",
    "Sequential API we can readily create neural networks by stacking together layers like building blocks from the pytorch and a single nn.Linear to define the network.\n",
    "\n",
    "- what is the difference between Linear layer sigmoid and the prev layer with nn.Module utilising the matrix multiplication."
   ]
  },
  {
   "cell_type": "code",
   "execution_count": 39,
   "metadata": {},
   "outputs": [
    {
     "name": "stdout",
     "output_type": "stream",
     "text": [
      "output shape: torch.Size([3])\n",
      "output result: tensor([0.8819, 0.8642, 0.4771], grad_fn=<SigmoidBackward0>)\n"
     ]
    }
   ],
   "source": [
    "class LinearLayerSigmoid(nn.Module):\n",
    "    def __init__(self,num_inputs,num_outputs):\n",
    "        super().__init__()\n",
    "        self.linear=  nn.Linear(num_inputs,num_outputs) #defininig a linear layer\n",
    "        self.activation= nn.Sigmoid() #defining an activation function\n",
    "        \n",
    "    def forward(self,inputs):\n",
    "        linear=self.linear(inputs)\n",
    "        outputs=self.activation(linear)\n",
    "        return outputs\n",
    "    \n",
    "\n",
    "num_inputs= 2\n",
    "num_outputs=3\n",
    "ll_sigmoid = LinearLayerSigmoid(num_inputs,num_outputs)\n",
    "\n",
    "x_input = torch.tensor([2.,3.])\n",
    "output = ll_sigmoid.forward(x_input)\n",
    "print(f\"output shape: {output.shape}\")\n",
    "print(f\"output result: {output}\")\n",
    "# how come ll_sigmoid.forward(x_input) and ll_sigmoid(x_input) results in the similar results?\n"
   ]
  },
  {
   "cell_type": "code",
   "execution_count": 4,
   "metadata": {},
   "outputs": [
    {
     "name": "stdout",
     "output_type": "stream",
     "text": [
      "tensor(9., grad_fn=<PowBackward0>)\n",
      "dy_dx of y=x^2 at x=3.0 is:  tensor(6.)\n"
     ]
    }
   ],
   "source": [
    "import torch\n",
    "x = torch.tensor(3.0, requires_grad=True)\n",
    "y = x ** 2\n",
    "y.backward()\n",
    "print(y)\n",
    "\n",
    "dy_dx = x.grad\n",
    "print(\"dy_dx of y=x^2 at x=3.0 is: \", dy_dx)"
   ]
  },
  {
   "cell_type": "markdown",
   "metadata": {},
   "source": [
    "find the min of L = (x-xf)^2"
   ]
  },
  {
   "cell_type": "code",
   "execution_count": null,
   "metadata": {},
   "outputs": [
    {
     "data": {
      "image/png": "[encoded data removed]",
      "text/plain": [
       "<Figure size 640x480 with 1 Axes>"
      ]
     },
     "metadata": {},
     "output_type": "display_data"
    }
   ],
   "source": [
    "import matplotlib.pyplot as plt\n",
    "\n",
    "\n",
    "# how can i write the gradient descent for a func\n",
    "\n",
    "\n",
    "\n",
    "\n",
    "plt.plot([1,20,33,400,5,6],[1,2,3,4,5,6])\n",
    "plt.title('Basic Line Plot')  # Adds a title\n",
    "plt.xlabel('X-axis')  # Adds an X-axis label\n",
    "plt.ylabel('Y-axis')  # Adds a Y-axis label\n",
    "plt.show()  # Displays the plot"
   ]
  }
 ],
 "metadata": {
  "kernelspec": {
   "display_name": "Python 3",
   "language": "python",
   "name": "python3"
  },
  "language_info": {
   "codemirror_mode": {
    "name": "ipython",
    "version": 3
   },
   "file_extension": ".py",
   "mimetype": "text/x-python",
   "name": "python",
   "nbconvert_exporter": "python",
   "pygments_lexer": "ipython3",
   "version": "3.11.9"
  }
 },
 "nbformat": 4,
 "nbformat_minor": 2
}
