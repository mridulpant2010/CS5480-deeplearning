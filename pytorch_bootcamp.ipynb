{
 "cells": [
  {
   "cell_type": "markdown",
   "metadata": {},
   "source": [
    "## Pytorch tutorial"
   ]
  },
  {
   "cell_type": "code",
   "execution_count": 4,
   "metadata": {},
   "outputs": [
    {
     "name": "stdout",
     "output_type": "stream",
     "text": [
      "`integer` is a 0-d Tensor: 1234\n",
      "`decimal` is a 0-d Tensor: 3.1415927410125732\n",
      "`one_d tensor` is a 1-d Tensor: tensor([1, 2, 3, 4])\n",
      "`2_d tensor` is a 2-d Tensor: tensor([[ 1,  2,  3,  4],\n",
      "        [21, 22, 23, 24]])\n",
      "`count_to_100` is a 1-d Tensor with shape: torch.Size([100])\n"
     ]
    }
   ],
   "source": [
    "import torch.nn as nn\n",
    "import torch\n",
    "\n",
    "integer = torch.tensor(1234)\n",
    "decimal = torch.tensor(3.14159265359)\n",
    "\n",
    "print(f\"`integer` is a {integer.ndim}-d Tensor: {integer}\")\n",
    "print(f\"`decimal` is a {decimal.ndim}-d Tensor: {decimal}\")\n",
    "\n",
    "one_d_tensor = torch.tensor([1,2,3,4])\n",
    "print(f\"`one_d tensor` is a {one_d_tensor.ndim}-d Tensor: {one_d_tensor}\")\n",
    "\n",
    "two_d_tensor = torch.tensor([[1,2,3,4],[21,22,23,24]])\n",
    "print(f\"`2_d tensor` is a {two_d_tensor.ndim}-d Tensor: {two_d_tensor}\")\n",
    "\n",
    "assert two_d_tensor.ndim == 2\n",
    "\n",
    "count_to_100 = torch.tensor(range(100))\n",
    "\n",
    "print(f\"`count_to_100` is a {count_to_100.ndim}-d Tensor with shape: {count_to_100.shape}\") "
   ]
  },
  {
   "cell_type": "code",
   "execution_count": null,
   "metadata": {},
   "outputs": [],
   "source": [
    "#  In image processing and computer vision, we will use 4-d Tensors with dimensions corresponding to batch size, number of color channels, image height, and image width.\n",
    "# what is a batch_size in a 4d tensor.\n",
    "# create a 4d tensor Use torch.zeros to initialize a 4-d Tensor of zeros with size 10 x 3 x 256 x 256. \n",
    "# 10 images with channel of 3 and height and width = 256\n",
    "\n",
    "fourd_array = torch.tensor([[ [[0 for _ in range(256)] for _ in range(256)] for _ in range(3)] for _ in range(10)])\n",
    "\n",
    "assert fourd_array.shape == (10,3,256,256)\n"
   ]
  },
  {
   "cell_type": "code",
   "execution_count": 33,
   "metadata": {},
   "outputs": [
    {
     "name": "stdout",
     "output_type": "stream",
     "text": [
      "c1: 76\n",
      "c2: 76\n",
      "torch.Size([2, 3])\n"
     ]
    }
   ],
   "source": [
    "# Create the nodes in the graph and initialize values\n",
    "a = torch.tensor(15)\n",
    "b = torch.tensor(61)\n",
    "\n",
    "# Add them!\n",
    "c1 = torch.add(a, b)\n",
    "c2 = a + b  # PyTorch overrides the \"+\" operation so that it is able to act on Tensors\n",
    "print(f\"c1: {c1}\")\n",
    "print(f\"c2: {c2}\")\n",
    "\n",
    "\n",
    "import numpy as np\n",
    "# build a tensor of size 2,3\n",
    "matrix_mult = torch.tensor([[ np.random.normal() for _ in range(3)]for _ in range(2)])\n",
    "print(matrix_mult.shape)\n"
   ]
  },
  {
   "cell_type": "code",
   "execution_count": null,
   "metadata": {},
   "outputs": [
    {
     "name": "stdout",
     "output_type": "stream",
     "text": [
      "torch.Size([1, 2]) torch.Size([2, 1])\n",
      "torch.Size([3, 1])\n",
      "torch.Size([1, 3])\n"
     ]
    }
   ],
   "source": [
    "input = torch.tensor([[2,3]])\n",
    "output = torch.tensor([[3.],[4.]])\n",
    "print(input.shape,output.shape)\n",
    "\n",
    "result = torch.matmul(matrix_mult.T,output)\n",
    "print(result.shape)\n",
    "\n",
    "#TODO: transpose a tensor ?\n",
    "print(result.T.shape)"
   ]
  },
  {
   "cell_type": "markdown",
   "metadata": {},
   "source": [
    "## NeuralNetworks in Pytorch\n",
    "\n",
    "- use torch.nn.Module which serves as a base class for all NN modules in pytorch and thus provides a framework \n",
    "- Use a single Module to define our simple NN"
   ]
  },
  {
   "cell_type": "code",
   "execution_count": 15,
   "metadata": {},
   "outputs": [
    {
     "name": "stdout",
     "output_type": "stream",
     "text": [
      "x_input shape: torch.Size([2, 1])\n",
      "neural_net shape: torch.Size([2, 3])\n",
      "output of the z matrix is  torch.Size([3, 1])\n",
      "output shape: torch.Size([3, 1])\n",
      "output result: tensor([[0.2957],\n",
      "        [0.4909],\n",
      "        [0.1631]], grad_fn=<SigmoidBackward0>)\n",
      " Dimensions of the bias is : torch.Size([3, 1])\n"
     ]
    }
   ],
   "source": [
    "import torch.nn as nn\n",
    "import torch\n",
    "class NeuralNetwork(nn.Module):\n",
    "    def __init__(self,num_inputs,num_outputs):\n",
    "        super(NeuralNetwork,self).__init__()\n",
    "        self.Weight = nn.Parameter(torch.randn(num_inputs,num_outputs)) # what are these initialization in neural network\n",
    "        self.bias = nn.Parameter(torch.randn(num_outputs,1))    \n",
    "    def forward(self,x):\n",
    "        #z = torch.add(torch.matmul(self.Weight.T,x) ,self.bias) # i don't get how this size has gone to 3x3\n",
    "        z = torch.matmul(self.Weight.T,x) + self.bias \n",
    "        print(\"output of the z matrix is \",z.shape)\n",
    "        output = torch.sigmoid(z)\n",
    "        return output\n",
    "    \n",
    "num_inputs= 2\n",
    "num_outputs=3\n",
    "neural_net = NeuralNetwork(num_inputs,num_outputs)\n",
    "x_input =  torch.tensor([[2.],[1.]])\n",
    "print(f\"x_input shape: {x_input.shape}\")\n",
    "print(f\"neural_net shape: {neural_net.Weight.shape}\")\n",
    "result = neural_net.forward(x_input)\n",
    "#result = neural_net(torch.tensor([1,2]))\n",
    "print(f\"output shape: {result.shape}\")\n",
    "print(f\"output result: {result}\")\n",
    "print(f\" Dimensions of the bias is : {neural_net.bias.shape}\")\n",
    "\n"
   ]
  },
  {
   "cell_type": "code",
   "execution_count": 9,
   "metadata": {},
   "outputs": [
    {
     "name": "stdout",
     "output_type": "stream",
     "text": [
      "torch.Size([3, 1]) torch.Size([3])\n"
     ]
    }
   ],
   "source": [
    "case1= nn.Parameter(torch.randn(num_outputs,1))  \n",
    "case2 = nn.Parameter(torch.randn(num_outputs))  \n",
    "print(case1.shape,case2.shape)"
   ]
  },
  {
   "cell_type": "code",
   "execution_count": 21,
   "metadata": {},
   "outputs": [
    {
     "name": "stdout",
     "output_type": "stream",
     "text": [
      "x_input shape: torch.Size([1, 2])\n",
      "neural_net shape: torch.Size([2, 3])\n",
      "output of the z matrix is  torch.Size([1, 3])\n",
      "output shape: torch.Size([1, 3])\n",
      "output result: tensor([[0.4413, 0.3826, 0.8387]], grad_fn=<SigmoidBackward0>)\n",
      " Dimensions of the bias is : torch.Size([3])\n",
      "output of the z matrix is  torch.Size([1, 3])\n",
      "input shape: torch.Size([1, 2])\n",
      "output shape: torch.Size([1, 3])\n",
      "output result: tensor([[0.4413, 0.3826, 0.8387]], grad_fn=<SigmoidBackward0>)\n"
     ]
    }
   ],
   "source": [
    "import torch.nn as nn\n",
    "import torch\n",
    "class DenseLayer(nn.Module):\n",
    "    def __init__(self,num_inputs,num_outputs):\n",
    "        super().__init__()\n",
    "        self.Weight = nn.Parameter(torch.randn(num_inputs,num_outputs)) # what are these initialization in neural network\n",
    "        self.bias = nn.Parameter(torch.randn(num_outputs))    \n",
    "    def forward(self,x):\n",
    "        #z = torch.add(torch.matmul(self.Weight.T,x) ,self.bias) # i don't get how this size has gone to 3x3\n",
    "        z = torch.matmul(x,self.Weight) + self.bias \n",
    "        print(\"output of the z matrix is \",z.shape)\n",
    "        output = torch.sigmoid(z)\n",
    "        return output\n",
    "    \n",
    "num_inputs= 2\n",
    "num_outputs=3\n",
    "neural_net = DenseLayer(num_inputs,num_outputs)\n",
    "x_input =  torch.tensor([[1,2.]])\n",
    "print(f\"x_input shape: {x_input.shape}\")\n",
    "print(f\"neural_net shape: {neural_net.Weight.shape}\")\n",
    "result = neural_net.forward(x_input)\n",
    "#result = neural_net(torch.tensor([1,2]))\n",
    "print(f\"output shape: {result.shape}\")\n",
    "print(f\"output result: {result}\")\n",
    "print(f\" Dimensions of the bias is : {neural_net.bias.shape}\")\n",
    "\n",
    "\n",
    "\n",
    "y = neural_net(x_input)\n",
    "\n",
    "print(f\"input shape: {x_input.shape}\")\n",
    "print(f\"output shape: {y.shape}\")\n",
    "print(f\"output result: {y}\")\n"
   ]
  },
  {
   "cell_type": "markdown",
   "metadata": {},
   "source": [
    "## Sequential API\n",
    "Sequential API we can readily create neural networks by stacking together layers like building blocks from the pytorch and a single nn.Linear to define the network.\n",
    "\n",
    "- what is the difference between Linear layer sigmoid and the prev layer with nn.Module utilising the matrix multiplication.\n",
    "    - will this code and the prev code results in the same output?\n",
    "    - "
   ]
  },
  {
   "cell_type": "code",
   "execution_count": null,
   "metadata": {},
   "outputs": [
    {
     "name": "stdout",
     "output_type": "stream",
     "text": [
      "output of the z matrix is  torch.Size([1, 3])\n",
      "input shape: torch.Size([1, 2])\n",
      "output shape: torch.Size([1, 3])\n",
      "output result: tensor([[0.4413, 0.3826, 0.8387]], grad_fn=<SigmoidBackward0>)\n"
     ]
    }
   ],
   "source": [
    "n_inputs = 2\n",
    "n_outputs = 3\n",
    "model = nn.Sequential(\n",
    "    nn.Linear(n_inputs,n_outputs),\n",
    "    nn.Sigmoid()\n",
    ")\n",
    "\n",
    "# Test the model with example input\n",
    "x_input = torch.tensor([[1, 2.]])\n",
    "model_output = model(x_input)\n",
    "y = neural_net(x_input)\n",
    "print(f\"input shape: {x_input.shape}\")\n",
    "print(f\"output shape: {y.shape}\")\n",
    "print(f\"output result: {y}\")"
   ]
  },
  {
   "cell_type": "code",
   "execution_count": null,
   "metadata": {},
   "outputs": [],
   "source": [
    "\n"
   ]
  },
  {
   "cell_type": "code",
   "execution_count": 10,
   "metadata": {},
   "outputs": [
    {
     "ename": "RuntimeError",
     "evalue": "mat1 and mat2 shapes cannot be multiplied (2x1 and 2x3)",
     "output_type": "error",
     "traceback": [
      "\u001b[1;31m---------------------------------------------------------------------------\u001b[0m",
      "\u001b[1;31mRuntimeError\u001b[0m                              Traceback (most recent call last)",
      "Cell \u001b[1;32mIn[10], line 19\u001b[0m\n\u001b[0;32m     17\u001b[0m \u001b[38;5;66;03m#x_input = torch.tensor([2.,3.])\u001b[39;00m\n\u001b[0;32m     18\u001b[0m x_input \u001b[38;5;241m=\u001b[39m torch\u001b[38;5;241m.\u001b[39mtensor([[\u001b[38;5;241m2.\u001b[39m],[\u001b[38;5;241m1.\u001b[39m]])\n\u001b[1;32m---> 19\u001b[0m output \u001b[38;5;241m=\u001b[39m \u001b[43mll_sigmoid\u001b[49m\u001b[38;5;241;43m.\u001b[39;49m\u001b[43mforward\u001b[49m\u001b[43m(\u001b[49m\u001b[43mx_input\u001b[49m\u001b[43m)\u001b[49m\n\u001b[0;32m     20\u001b[0m \u001b[38;5;28mprint\u001b[39m(\u001b[38;5;124mf\u001b[39m\u001b[38;5;124m\"\u001b[39m\u001b[38;5;124moutput shape: \u001b[39m\u001b[38;5;132;01m{\u001b[39;00moutput\u001b[38;5;241m.\u001b[39mshape\u001b[38;5;132;01m}\u001b[39;00m\u001b[38;5;124m\"\u001b[39m)\n\u001b[0;32m     21\u001b[0m \u001b[38;5;28mprint\u001b[39m(\u001b[38;5;124mf\u001b[39m\u001b[38;5;124m\"\u001b[39m\u001b[38;5;124moutput result: \u001b[39m\u001b[38;5;132;01m{\u001b[39;00moutput\u001b[38;5;132;01m}\u001b[39;00m\u001b[38;5;124m\"\u001b[39m)\n",
      "Cell \u001b[1;32mIn[10], line 8\u001b[0m, in \u001b[0;36mLinearLayerSigmoid.forward\u001b[1;34m(self, inputs)\u001b[0m\n\u001b[0;32m      7\u001b[0m \u001b[38;5;28;01mdef\u001b[39;00m \u001b[38;5;21mforward\u001b[39m(\u001b[38;5;28mself\u001b[39m,inputs):\n\u001b[1;32m----> 8\u001b[0m     linear\u001b[38;5;241m=\u001b[39m\u001b[38;5;28;43mself\u001b[39;49m\u001b[38;5;241;43m.\u001b[39;49m\u001b[43mlinear\u001b[49m\u001b[43m(\u001b[49m\u001b[43minputs\u001b[49m\u001b[43m)\u001b[49m\n\u001b[0;32m      9\u001b[0m     outputs\u001b[38;5;241m=\u001b[39m\u001b[38;5;28mself\u001b[39m\u001b[38;5;241m.\u001b[39mactivation(linear)\n\u001b[0;32m     10\u001b[0m     \u001b[38;5;28;01mreturn\u001b[39;00m outputs\n",
      "File \u001b[1;32m~\\AppData\\Local\\Packages\\PythonSoftwareFoundation.Python.3.11_qbz5n2kfra8p0\\LocalCache\\local-packages\\Python311\\site-packages\\torch\\nn\\modules\\module.py:1739\u001b[0m, in \u001b[0;36mModule._wrapped_call_impl\u001b[1;34m(self, *args, **kwargs)\u001b[0m\n\u001b[0;32m   1737\u001b[0m     \u001b[38;5;28;01mreturn\u001b[39;00m \u001b[38;5;28mself\u001b[39m\u001b[38;5;241m.\u001b[39m_compiled_call_impl(\u001b[38;5;241m*\u001b[39margs, \u001b[38;5;241m*\u001b[39m\u001b[38;5;241m*\u001b[39mkwargs)  \u001b[38;5;66;03m# type: ignore[misc]\u001b[39;00m\n\u001b[0;32m   1738\u001b[0m \u001b[38;5;28;01melse\u001b[39;00m:\n\u001b[1;32m-> 1739\u001b[0m     \u001b[38;5;28;01mreturn\u001b[39;00m \u001b[38;5;28;43mself\u001b[39;49m\u001b[38;5;241;43m.\u001b[39;49m\u001b[43m_call_impl\u001b[49m\u001b[43m(\u001b[49m\u001b[38;5;241;43m*\u001b[39;49m\u001b[43margs\u001b[49m\u001b[43m,\u001b[49m\u001b[43m \u001b[49m\u001b[38;5;241;43m*\u001b[39;49m\u001b[38;5;241;43m*\u001b[39;49m\u001b[43mkwargs\u001b[49m\u001b[43m)\u001b[49m\n",
      "File \u001b[1;32m~\\AppData\\Local\\Packages\\PythonSoftwareFoundation.Python.3.11_qbz5n2kfra8p0\\LocalCache\\local-packages\\Python311\\site-packages\\torch\\nn\\modules\\module.py:1750\u001b[0m, in \u001b[0;36mModule._call_impl\u001b[1;34m(self, *args, **kwargs)\u001b[0m\n\u001b[0;32m   1745\u001b[0m \u001b[38;5;66;03m# If we don't have any hooks, we want to skip the rest of the logic in\u001b[39;00m\n\u001b[0;32m   1746\u001b[0m \u001b[38;5;66;03m# this function, and just call forward.\u001b[39;00m\n\u001b[0;32m   1747\u001b[0m \u001b[38;5;28;01mif\u001b[39;00m \u001b[38;5;129;01mnot\u001b[39;00m (\u001b[38;5;28mself\u001b[39m\u001b[38;5;241m.\u001b[39m_backward_hooks \u001b[38;5;129;01mor\u001b[39;00m \u001b[38;5;28mself\u001b[39m\u001b[38;5;241m.\u001b[39m_backward_pre_hooks \u001b[38;5;129;01mor\u001b[39;00m \u001b[38;5;28mself\u001b[39m\u001b[38;5;241m.\u001b[39m_forward_hooks \u001b[38;5;129;01mor\u001b[39;00m \u001b[38;5;28mself\u001b[39m\u001b[38;5;241m.\u001b[39m_forward_pre_hooks\n\u001b[0;32m   1748\u001b[0m         \u001b[38;5;129;01mor\u001b[39;00m _global_backward_pre_hooks \u001b[38;5;129;01mor\u001b[39;00m _global_backward_hooks\n\u001b[0;32m   1749\u001b[0m         \u001b[38;5;129;01mor\u001b[39;00m _global_forward_hooks \u001b[38;5;129;01mor\u001b[39;00m _global_forward_pre_hooks):\n\u001b[1;32m-> 1750\u001b[0m     \u001b[38;5;28;01mreturn\u001b[39;00m \u001b[43mforward_call\u001b[49m\u001b[43m(\u001b[49m\u001b[38;5;241;43m*\u001b[39;49m\u001b[43margs\u001b[49m\u001b[43m,\u001b[49m\u001b[43m \u001b[49m\u001b[38;5;241;43m*\u001b[39;49m\u001b[38;5;241;43m*\u001b[39;49m\u001b[43mkwargs\u001b[49m\u001b[43m)\u001b[49m\n\u001b[0;32m   1752\u001b[0m result \u001b[38;5;241m=\u001b[39m \u001b[38;5;28;01mNone\u001b[39;00m\n\u001b[0;32m   1753\u001b[0m called_always_called_hooks \u001b[38;5;241m=\u001b[39m \u001b[38;5;28mset\u001b[39m()\n",
      "File \u001b[1;32m~\\AppData\\Local\\Packages\\PythonSoftwareFoundation.Python.3.11_qbz5n2kfra8p0\\LocalCache\\local-packages\\Python311\\site-packages\\torch\\nn\\modules\\linear.py:125\u001b[0m, in \u001b[0;36mLinear.forward\u001b[1;34m(self, input)\u001b[0m\n\u001b[0;32m    124\u001b[0m \u001b[38;5;28;01mdef\u001b[39;00m \u001b[38;5;21mforward\u001b[39m(\u001b[38;5;28mself\u001b[39m, \u001b[38;5;28minput\u001b[39m: Tensor) \u001b[38;5;241m-\u001b[39m\u001b[38;5;241m>\u001b[39m Tensor:\n\u001b[1;32m--> 125\u001b[0m     \u001b[38;5;28;01mreturn\u001b[39;00m \u001b[43mF\u001b[49m\u001b[38;5;241;43m.\u001b[39;49m\u001b[43mlinear\u001b[49m\u001b[43m(\u001b[49m\u001b[38;5;28;43minput\u001b[39;49m\u001b[43m,\u001b[49m\u001b[43m \u001b[49m\u001b[38;5;28;43mself\u001b[39;49m\u001b[38;5;241;43m.\u001b[39;49m\u001b[43mweight\u001b[49m\u001b[43m,\u001b[49m\u001b[43m \u001b[49m\u001b[38;5;28;43mself\u001b[39;49m\u001b[38;5;241;43m.\u001b[39;49m\u001b[43mbias\u001b[49m\u001b[43m)\u001b[49m\n",
      "\u001b[1;31mRuntimeError\u001b[0m: mat1 and mat2 shapes cannot be multiplied (2x1 and 2x3)"
     ]
    }
   ],
   "source": [
    "class LinearLayerSigmoid(nn.Module):\n",
    "    def __init__(self,num_inputs,num_outputs):\n",
    "        super().__init__()\n",
    "        self.linear=  nn.Linear(num_inputs,num_outputs) #defininig a linear layer\n",
    "        self.activation= nn.Sigmoid() #defining an activation function\n",
    "        \n",
    "    def forward(self,inputs):\n",
    "        linear=self.linear(inputs)\n",
    "        outputs=self.activation(linear)\n",
    "        return outputs\n",
    "    \n",
    "\n",
    "num_inputs= 2\n",
    "num_outputs=3\n",
    "ll_sigmoid = LinearLayerSigmoid(num_inputs,num_outputs)\n",
    "\n",
    "#x_input = torch.tensor([2.,3.])\n",
    "x_input = torch.tensor([[2.],[1.]])\n",
    "output = ll_sigmoid.forward(x_input)\n",
    "print(f\"output shape: {output.shape}\")\n",
    "print(f\"output result: {output}\")\n",
    "# how come ll_sigmoid.forward(x_input) and ll_sigmoid(x_input) results in the similar results?\n"
   ]
  },
  {
   "cell_type": "code",
   "execution_count": 30,
   "metadata": {},
   "outputs": [
    {
     "name": "stdout",
     "output_type": "stream",
     "text": [
      "tensor(9., grad_fn=<PowBackward0>)\n",
      "dy_dx of y=x^2 at x=3.0 is:  tensor(30.)\n"
     ]
    }
   ],
   "source": [
    "import torch\n",
    "x = torch.tensor(3.0, requires_grad=True)\n",
    "y = x ** 2\n",
    "y.backward(torch.tensor(5))\n",
    "print(y)\n",
    "\n",
    "dy_dx = x.grad\n",
    "print(\"dy_dx of y=x^2 at x=3.0 is: \", dy_dx)"
   ]
  },
  {
   "cell_type": "code",
   "execution_count": 37,
   "metadata": {},
   "outputs": [
    {
     "name": "stdout",
     "output_type": "stream",
     "text": [
      "tensor(64., grad_fn=<PowBackward0>)\n",
      " res of the gradient is  tensor(240.)\n"
     ]
    }
   ],
   "source": [
    "x = torch.tensor(4.0, requires_grad=True)\n",
    "y = x **3\n",
    "y.backward(torch.tensor(5.0))\n",
    "print(y)\n",
    "res = x.grad\n",
    "print(\" res of the gradient is \", res)"
   ]
  },
  {
   "cell_type": "code",
   "execution_count": 36,
   "metadata": {},
   "outputs": [
    {
     "data": {
      "text/plain": [
       "tensor(48.)"
      ]
     },
     "execution_count": 36,
     "metadata": {},
     "output_type": "execute_result"
    }
   ],
   "source": [
    "x.grad"
   ]
  },
  {
   "cell_type": "markdown",
   "metadata": {},
   "source": [
    "find the min of L = (x-xf)^2\n",
    "\n",
    "-  when do we keep requires_grad=True and when do we keep it false. "
   ]
  },
  {
   "cell_type": "code",
   "execution_count": null,
   "metadata": {},
   "outputs": [
    {
     "data": {
      "image/png": "[encoded data removed]",
      "text/plain": [
       "<Figure size 640x480 with 1 Axes>"
      ]
     },
     "metadata": {},
     "output_type": "display_data"
    }
   ],
   "source": [
    "import matplotlib.pyplot as plt\n",
    "\n",
    "\n",
    "# how can i write the gradient descent for a func\n",
    "\n",
    "\n",
    "\n",
    "\n",
    "plt.plot([1,20,33,400,5,6],[1,2,3,4,5,6])\n",
    "plt.title('Basic Line Plot')  # Adds a title\n",
    "plt.xlabel('X-axis')  # Adds an X-axis label\n",
    "plt.ylabel('Y-axis')  # Adds a Y-axis label\n",
    "plt.show()  # Displays the plot"
   ]
  },
  {
   "cell_type": "markdown",
   "metadata": {},
   "source": [
    "- Pytorch and music generation with the RNN"
   ]
  },
  {
   "cell_type": "code",
   "execution_count": 40,
   "metadata": {},
   "outputs": [
    {
     "name": "stderr",
     "output_type": "stream",
     "text": [
      "\n",
      "[notice] A new release of pip is available: 24.0 -> 25.0.1\n",
      "[notice] To update, run: C:\\Users\\pantm\\AppData\\Local\\Microsoft\\WindowsApps\\PythonSoftwareFoundation.Python.3.11_qbz5n2kfra8p0\\python.exe -m pip install --upgrade pip\n"
     ]
    },
    {
     "name": "stdout",
     "output_type": "stream",
     "text": [
      "Requirement already satisfied: comet_ml in c:\\users\\pantm\\appdata\\local\\packages\\pythonsoftwarefoundation.python.3.11_qbz5n2kfra8p0\\localcache\\local-packages\\python311\\site-packages (3.49.5)\n",
      "Requirement already satisfied: dulwich!=0.20.33,>=0.20.6 in c:\\users\\pantm\\appdata\\local\\packages\\pythonsoftwarefoundation.python.3.11_qbz5n2kfra8p0\\localcache\\local-packages\\python311\\site-packages (from comet_ml) (0.22.8)\n",
      "Requirement already satisfied: everett<3.2.0,>=1.0.1 in c:\\users\\pantm\\appdata\\local\\packages\\pythonsoftwarefoundation.python.3.11_qbz5n2kfra8p0\\localcache\\local-packages\\python311\\site-packages (from everett[ini]<3.2.0,>=1.0.1->comet_ml) (3.1.0)\n",
      "Requirement already satisfied: jsonschema!=3.1.0,>=2.6.0 in c:\\users\\pantm\\appdata\\local\\packages\\pythonsoftwarefoundation.python.3.11_qbz5n2kfra8p0\\localcache\\local-packages\\python311\\site-packages (from comet_ml) (4.23.0)\n",
      "Requirement already satisfied: psutil>=5.6.3 in c:\\users\\pantm\\appdata\\local\\packages\\pythonsoftwarefoundation.python.3.11_qbz5n2kfra8p0\\localcache\\local-packages\\python311\\site-packages (from comet_ml) (6.1.0)\n",
      "Requirement already satisfied: python-box<7.0.0 in c:\\users\\pantm\\appdata\\local\\packages\\pythonsoftwarefoundation.python.3.11_qbz5n2kfra8p0\\localcache\\local-packages\\python311\\site-packages (from comet_ml) (6.1.0)\n",
      "Requirement already satisfied: requests-toolbelt>=0.8.0 in c:\\users\\pantm\\appdata\\local\\packages\\pythonsoftwarefoundation.python.3.11_qbz5n2kfra8p0\\localcache\\local-packages\\python311\\site-packages (from comet_ml) (1.0.0)\n",
      "Requirement already satisfied: requests>=2.18.4 in c:\\users\\pantm\\appdata\\local\\packages\\pythonsoftwarefoundation.python.3.11_qbz5n2kfra8p0\\localcache\\local-packages\\python311\\site-packages (from comet_ml) (2.32.3)\n",
      "Requirement already satisfied: rich>=13.3.2 in c:\\users\\pantm\\appdata\\local\\packages\\pythonsoftwarefoundation.python.3.11_qbz5n2kfra8p0\\localcache\\local-packages\\python311\\site-packages (from comet_ml) (13.9.4)\n",
      "Requirement already satisfied: semantic-version>=2.8.0 in c:\\users\\pantm\\appdata\\local\\packages\\pythonsoftwarefoundation.python.3.11_qbz5n2kfra8p0\\localcache\\local-packages\\python311\\site-packages (from comet_ml) (2.10.0)\n",
      "Requirement already satisfied: sentry-sdk>=1.1.0 in c:\\users\\pantm\\appdata\\local\\packages\\pythonsoftwarefoundation.python.3.11_qbz5n2kfra8p0\\localcache\\local-packages\\python311\\site-packages (from comet_ml) (2.22.0)\n",
      "Requirement already satisfied: simplejson in c:\\users\\pantm\\appdata\\local\\packages\\pythonsoftwarefoundation.python.3.11_qbz5n2kfra8p0\\localcache\\local-packages\\python311\\site-packages (from comet_ml) (3.20.1)\n",
      "Requirement already satisfied: urllib3>=1.21.1 in c:\\users\\pantm\\appdata\\local\\packages\\pythonsoftwarefoundation.python.3.11_qbz5n2kfra8p0\\localcache\\local-packages\\python311\\site-packages (from comet_ml) (2.3.0)\n",
      "Requirement already satisfied: wrapt>=1.11.2 in c:\\users\\pantm\\appdata\\local\\packages\\pythonsoftwarefoundation.python.3.11_qbz5n2kfra8p0\\localcache\\local-packages\\python311\\site-packages (from comet_ml) (1.17.2)\n",
      "Requirement already satisfied: wurlitzer>=1.0.2 in c:\\users\\pantm\\appdata\\local\\packages\\pythonsoftwarefoundation.python.3.11_qbz5n2kfra8p0\\localcache\\local-packages\\python311\\site-packages (from comet_ml) (3.1.1)\n",
      "Requirement already satisfied: configobj in c:\\users\\pantm\\appdata\\local\\packages\\pythonsoftwarefoundation.python.3.11_qbz5n2kfra8p0\\localcache\\local-packages\\python311\\site-packages (from everett[ini]<3.2.0,>=1.0.1->comet_ml) (5.0.9)\n",
      "Requirement already satisfied: attrs>=22.2.0 in c:\\users\\pantm\\appdata\\local\\packages\\pythonsoftwarefoundation.python.3.11_qbz5n2kfra8p0\\localcache\\local-packages\\python311\\site-packages (from jsonschema!=3.1.0,>=2.6.0->comet_ml) (25.1.0)\n",
      "Requirement already satisfied: jsonschema-specifications>=2023.03.6 in c:\\users\\pantm\\appdata\\local\\packages\\pythonsoftwarefoundation.python.3.11_qbz5n2kfra8p0\\localcache\\local-packages\\python311\\site-packages (from jsonschema!=3.1.0,>=2.6.0->comet_ml) (2024.10.1)\n",
      "Requirement already satisfied: referencing>=0.28.4 in c:\\users\\pantm\\appdata\\local\\packages\\pythonsoftwarefoundation.python.3.11_qbz5n2kfra8p0\\localcache\\local-packages\\python311\\site-packages (from jsonschema!=3.1.0,>=2.6.0->comet_ml) (0.36.2)\n",
      "Requirement already satisfied: rpds-py>=0.7.1 in c:\\users\\pantm\\appdata\\local\\packages\\pythonsoftwarefoundation.python.3.11_qbz5n2kfra8p0\\localcache\\local-packages\\python311\\site-packages (from jsonschema!=3.1.0,>=2.6.0->comet_ml) (0.23.1)\n",
      "Requirement already satisfied: charset-normalizer<4,>=2 in c:\\users\\pantm\\appdata\\local\\packages\\pythonsoftwarefoundation.python.3.11_qbz5n2kfra8p0\\localcache\\local-packages\\python311\\site-packages (from requests>=2.18.4->comet_ml) (3.4.1)\n",
      "Requirement already satisfied: idna<4,>=2.5 in c:\\users\\pantm\\appdata\\local\\packages\\pythonsoftwarefoundation.python.3.11_qbz5n2kfra8p0\\localcache\\local-packages\\python311\\site-packages (from requests>=2.18.4->comet_ml) (3.10)\n",
      "Requirement already satisfied: certifi>=2017.4.17 in c:\\users\\pantm\\appdata\\local\\packages\\pythonsoftwarefoundation.python.3.11_qbz5n2kfra8p0\\localcache\\local-packages\\python311\\site-packages (from requests>=2.18.4->comet_ml) (2025.1.31)\n",
      "Requirement already satisfied: markdown-it-py>=2.2.0 in c:\\users\\pantm\\appdata\\local\\packages\\pythonsoftwarefoundation.python.3.11_qbz5n2kfra8p0\\localcache\\local-packages\\python311\\site-packages (from rich>=13.3.2->comet_ml) (3.0.0)\n",
      "Requirement already satisfied: pygments<3.0.0,>=2.13.0 in c:\\users\\pantm\\appdata\\local\\packages\\pythonsoftwarefoundation.python.3.11_qbz5n2kfra8p0\\localcache\\local-packages\\python311\\site-packages (from rich>=13.3.2->comet_ml) (2.18.0)\n",
      "Requirement already satisfied: mdurl~=0.1 in c:\\users\\pantm\\appdata\\local\\packages\\pythonsoftwarefoundation.python.3.11_qbz5n2kfra8p0\\localcache\\local-packages\\python311\\site-packages (from markdown-it-py>=2.2.0->rich>=13.3.2->comet_ml) (0.1.2)\n",
      "Requirement already satisfied: typing-extensions>=4.4.0 in c:\\users\\pantm\\appdata\\local\\packages\\pythonsoftwarefoundation.python.3.11_qbz5n2kfra8p0\\localcache\\local-packages\\python311\\site-packages (from referencing>=0.28.4->jsonschema!=3.1.0,>=2.6.0->comet_ml) (4.12.2)\n"
     ]
    },
    {
     "name": "stderr",
     "output_type": "stream",
     "text": [
      "\n",
      "[notice] A new release of pip is available: 24.0 -> 25.0.1\n",
      "[notice] To update, run: C:\\Users\\pantm\\AppData\\Local\\Microsoft\\WindowsApps\\PythonSoftwareFoundation.Python.3.11_qbz5n2kfra8p0\\python.exe -m pip install --upgrade pip\n"
     ]
    }
   ],
   "source": [
    "!pip install comet_ml \n",
    "# \n",
    "import comet_ml\n",
    "import torch\n",
    "import torch.nn as nn\n",
    "import torch.optim as optim\n",
    "\n",
    "# Download and import the MIT Introduction to Deep Learning package\n",
    "!pip install mitdeeplearning --quiet\n",
    "\n",
    "COMET_API_KEY  = \"HXfJSXP0syikMTTNHyr4cH7pc\"\n",
    "\n"
   ]
  },
  {
   "cell_type": "code",
   "execution_count": 2,
   "metadata": {},
   "outputs": [
    {
     "name": "stderr",
     "output_type": "stream",
     "text": [
      "C:\\Users\\pantm\\AppData\\Local\\Packages\\PythonSoftwareFoundation.Python.3.11_qbz5n2kfra8p0\\LocalCache\\local-packages\\Python311\\site-packages\\tqdm\\auto.py:21: TqdmWarning: IProgress not found. Please update jupyter and ipywidgets. See https://ipywidgets.readthedocs.io/en/stable/user_install.html\n",
      "  from .autonotebook import tqdm as notebook_tqdm\n"
     ]
    },
    {
     "name": "stdout",
     "output_type": "stream",
     "text": [
      "Found 817 songs in text\n",
      "\n",
      "Example song: \n",
      "X:32\n",
      "T:Crabs in the Skillet\n",
      "Z: id:dc-jig-26\n",
      "M:6/8\n",
      "L:1/8\n",
      "K:G Dorian\n",
      "D|G3 d2F|G2A B2c|d_ed cBA|dcB AGF|!\n",
      "G3 d2F|G2A B2d|c=Bc fed|cAF F2:|!\n",
      "d|gag gfe|fgf fed|cde fed|cAG G2d|!\n",
      "gag gfe|fgf fed|cde fed|cAF F2:|!\n",
      "D|G3 A3|B3 c3|d_ed cBA|dcB AGF|!\n",
      "G3 A3|B3 d3|c=Bc fed|cAF F2:|!\n"
     ]
    }
   ],
   "source": [
    "# Download the dataset\n",
    "from mitdeeplearning import lab1\n",
    "songs =lab1.load_training_data()\n",
    "\n",
    "# Print one of the songs to inspect it in greater detail!\n",
    "example_song = songs[100]\n",
    "print(\"\\nExample song: \")\n",
    "print(example_song)\n",
    "\n",
    "lab1.play_song(example_song)"
   ]
  },
  {
   "cell_type": "code",
   "execution_count": 4,
   "metadata": {},
   "outputs": [
    {
     "name": "stdout",
     "output_type": "stream",
     "text": [
      "There are 83 unique characters in the dataset\n",
      "['\\n', ' ', '!', '\"', '#', \"'\", '(', ')', ',', '-', '.', '/', '0', '1', '2', '3', '4', '5', '6', '7', '8', '9', ':', '<', '=', '>', 'A', 'B', 'C', 'D', 'E', 'F', 'G', 'H', 'I', 'J', 'K', 'L', 'M', 'N', 'O', 'P', 'Q', 'R', 'S', 'T', 'U', 'V', 'W', 'X', 'Y', 'Z', '[', ']', '^', '_', 'a', 'b', 'c', 'd', 'e', 'f', 'g', 'h', 'i', 'j', 'k', 'l', 'm', 'n', 'o', 'p', 'q', 'r', 's', 't', 'u', 'v', 'w', 'x', 'y', 'z', '|']\n"
     ]
    }
   ],
   "source": [
    "# Join our list of song strings into a single string containing all songs\n",
    "songs_joined = \"\\n\\n\".join(songs)\n",
    "\n",
    "# Find all unique characters in the joined string\n",
    "vocab = sorted(set(songs_joined))\n",
    "print(\"There are\", len(vocab), \"unique characters in the dataset\")\n",
    "\n",
    "print(vocab)"
   ]
  },
  {
   "cell_type": "markdown",
   "metadata": {},
   "source": [
    "## Vectorize the text"
   ]
  },
  {
   "cell_type": "code",
   "execution_count": 5,
   "metadata": {},
   "outputs": [],
   "source": [
    "import numpy as np\n",
    "### Define numerical representation of text ###\n",
    "\n",
    "# Create a mapping from character to unique index.\n",
    "# For example, to get the index of the character \"d\",\n",
    "#   we can evaluate `char2idx[\"d\"]`.\n",
    "char2idx = {u: i for i, u in enumerate(vocab)}\n",
    "# Create a mapping from indices to characters. This is\n",
    "#   the inverse of char2idx and allows us to convert back\n",
    "#   from unique index to the character in our vocabulary.\n",
    "idx2char = np.array(vocab)"
   ]
  },
  {
   "cell_type": "code",
   "execution_count": 74,
   "metadata": {},
   "outputs": [
    {
     "data": {
      "text/plain": [
       "array(['\\n', ' ', '!', '\"', '#', \"'\", '(', ')', ',', '-', '.', '/', '0',\n",
       "       '1', '2', '3', '4', '5', '6', '7', '8', '9', ':', '<', '=', '>',\n",
       "       'A', 'B', 'C', 'D', 'E', 'F', 'G', 'H', 'I', 'J', 'K', 'L', 'M',\n",
       "       'N', 'O', 'P', 'Q', 'R', 'S', 'T', 'U', 'V', 'W', 'X', 'Y', 'Z',\n",
       "       '[', ']', '^', '_', 'a', 'b', 'c', 'd', 'e', 'f', 'g', 'h', 'i',\n",
       "       'j', 'k', 'l', 'm', 'n', 'o', 'p', 'q', 'r', 's', 't', 'u', 'v',\n",
       "       'w', 'x', 'y', 'z', '|'], dtype='<U1')"
      ]
     },
     "execution_count": 74,
     "metadata": {},
     "output_type": "execute_result"
    }
   ],
   "source": [
    "idx2char"
   ]
  },
  {
   "cell_type": "markdown",
   "metadata": {},
   "source": [
    "Given a character or a sequence of characters, what is the most probable next character?\n",
    "how can we achieve this?\n",
    "    - "
   ]
  },
  {
   "cell_type": "code",
   "execution_count": 6,
   "metadata": {},
   "outputs": [],
   "source": [
    "## Vectorize the song string\n",
    "def vectorize_string(string):\n",
    "    vectorized_output = np.array([char2idx[char] for char in string])\n",
    "    return vectorized_output\n",
    "\n",
    "vectorized_songs = vectorize_string(songs_joined)"
   ]
  },
  {
   "cell_type": "markdown",
   "metadata": {},
   "source": [
    "- what does an RNN require?\n",
    "  - input sequence: an input sequence that we feed into our RNN \n",
    "  - target sequence: for each input sequence, which will be used in training the RNN to predict the next character"
   ]
  },
  {
   "cell_type": "code",
   "execution_count": 8,
   "metadata": {},
   "outputs": [
    {
     "name": "stdout",
     "output_type": "stream",
     "text": [
      "Batch function works correctly!\n"
     ]
    },
    {
     "name": "stderr",
     "output_type": "stream",
     "text": [
      "C:\\Users\\pantm\\AppData\\Local\\Temp\\ipykernel_39656\\369779558.py:16: UserWarning: Creating a tensor from a list of numpy.ndarrays is extremely slow. Please consider converting the list to a single numpy.ndarray with numpy.array() before converting to a tensor. (Triggered internally at C:\\actions-runner\\_work\\pytorch\\pytorch\\pytorch\\torch\\csrc\\utils\\tensor_new.cpp:257.)\n",
      "  x_batch = torch.tensor(input_batch, dtype=torch.long)\n"
     ]
    }
   ],
   "source": [
    "\n",
    "## what is this batch function trying to do.\n",
    "import torch\n",
    "def get_batch(vectorized_songs, seq_length, batch_size):\n",
    "    # the length of the vectorized songs string\n",
    "    n = vectorized_songs.shape[0] - 1\n",
    "    # randomly choose the starting indices for the examples in the training batch\n",
    "    idx = np.random.choice(n - seq_length, batch_size)\n",
    "\n",
    "    '''TODO: construct a list of input sequences for the training batch'''\n",
    "    input_batch = [vectorized_songs[i: i + seq_length] for i in idx]\n",
    "\n",
    "    '''TODO: construct a list of output sequences for the training batch'''\n",
    "    output_batch = [vectorized_songs[i+1: i + seq_length+1] for i in idx]\n",
    "\n",
    "    # Convert the input and output batches to tensors\n",
    "    x_batch = torch.tensor(input_batch, dtype=torch.long)\n",
    "    y_batch = torch.tensor(output_batch, dtype=torch.long)\n",
    "\n",
    "    return x_batch, y_batch\n",
    "\n",
    "# Perform some simple tests to make sure your batch function is working properly!\n",
    "test_args = (vectorized_songs, 10, 2)\n",
    "x_batch, y_batch = get_batch(*test_args)\n",
    "assert x_batch.shape == (2, 10), \"x_batch shape is incorrect\"\n",
    "assert y_batch.shape == (2, 10), \"y_batch shape is incorrect\"\n",
    "print(\"Batch function works correctly!\")"
   ]
  },
  {
   "cell_type": "code",
   "execution_count": 68,
   "metadata": {},
   "outputs": [
    {
     "name": "stdout",
     "output_type": "stream",
     "text": [
      "'X:1\\nT:Alex' ---- characters mapped to int ----> [49 22 13  0 45 22 26 67 60 79]\n"
     ]
    }
   ],
   "source": [
    "print ('{} ---- characters mapped to int ----> {}'.format(repr(songs_joined[:10]), vectorized_songs[:10]))\n",
    "# check that vectorized_songs is a numpy array\n",
    "assert isinstance(vectorized_songs, np.ndarray), \"returned result should be a numpy array\""
   ]
  },
  {
   "cell_type": "code",
   "execution_count": 9,
   "metadata": {},
   "outputs": [
    {
     "name": "stdout",
     "output_type": "stream",
     "text": [
      "Step   0\n",
      "  input: 26 ('A')\n",
      "  expected output: 31 ('F')\n",
      "Step   1\n",
      "  input: 31 ('F')\n",
      "  expected output: 58 ('c')\n",
      "Step   2\n",
      "  input: 58 ('c')\n",
      "  expected output: 31 ('F')\n",
      "Step   3\n",
      "  input: 31 ('F')\n",
      "  expected output: 1 (' ')\n",
      "Step   4\n",
      "  input: 1 (' ')\n",
      "  expected output: 59 ('d')\n"
     ]
    }
   ],
   "source": [
    "x_batch, y_batch = get_batch(vectorized_songs, seq_length=5, batch_size=1)\n",
    "\n",
    "for i, (input_idx, target_idx) in enumerate(zip(x_batch[0], y_batch[0])):\n",
    "    print(\"Step {:3d}\".format(i))\n",
    "    print(\"  input: {} ({:s})\".format(input_idx, repr(idx2char[input_idx.item()])))\n",
    "    print(\"  expected output: {} ({:s})\".format(target_idx, repr(idx2char[target_idx.item()])))"
   ]
  },
  {
   "cell_type": "markdown",
   "metadata": {},
   "source": [
    "## LSTM Model\n",
    " - what is the embedding vector how do we create it? criteria of choosing the embedding_dim\n",
    " - "
   ]
  },
  {
   "cell_type": "code",
   "execution_count": 21,
   "metadata": {},
   "outputs": [],
   "source": [
    "import torch.nn as nn\n",
    "class LSTMModel(nn.Module):\n",
    "    def __init__(self,vocab_size,embedding_dim,hidden_size):\n",
    "        super().__init__()\n",
    "        self.hidden_size= hidden_size\n",
    "        self.embedding = nn.Embedding(vocab_size,embedding_dim)\n",
    "        self.lstm = nn.LSTM(embedding_dim,hidden_size,num_layers=2,batch_first=True)\n",
    "        self.fc = nn.Linear(hidden_size,vocab_size)\n",
    "        \n",
    "    def init_hidden(self,batch_size,device):\n",
    "        return (torch.zeros(2, batch_size, self.hidden_size).to(device),\n",
    "                torch.zeros(2, batch_size, self.hidden_size).to(device))\n",
    "        \n",
    "    def forward(self, x, state=None, return_state=False):\n",
    "        x = self.embedding(x)\n",
    "\n",
    "        if state is None:\n",
    "            state = self.init_hidden(x.size(0), x.device)\n",
    "        out, state = self.lstm(x, state)  #what do we call this phenomena in python?\n",
    "\n",
    "        out = self.fc(out)\n",
    "        return out if not return_state else (out, state)"
   ]
  },
  {
   "cell_type": "code",
   "execution_count": 22,
   "metadata": {},
   "outputs": [
    {
     "name": "stdout",
     "output_type": "stream",
     "text": [
      "LSTMModel(\n",
      "  (embedding): Embedding(83, 256)\n",
      "  (lstm): LSTM(256, 1024, num_layers=2, batch_first=True)\n",
      "  (fc): Linear(in_features=1024, out_features=83, bias=True)\n",
      ")\n"
     ]
    }
   ],
   "source": [
    "# Instantiate the model! Build a simple model with default hyperparameters. You\n",
    "#     will get the chance to change these later.\n",
    "vocab_size = len(vocab)\n",
    "embedding_dim = 256 #how do we decide this embedding_dim ?\n",
    "hidden_size = 1024\n",
    "batch_size = 8\n",
    "\n",
    "device = torch.device(\"cuda\" if torch.cuda.is_available() else \"cpu\")\n",
    "\n",
    "model = LSTMModel(vocab_size, embedding_dim, hidden_size).to(device)\n",
    "\n",
    "# print out a summary of the model\n",
    "print(model)\n",
    "\n",
    "# if my LSTM model is bidirectional?"
   ]
  },
  {
   "cell_type": "code",
   "execution_count": 23,
   "metadata": {},
   "outputs": [
    {
     "name": "stdout",
     "output_type": "stream",
     "text": [
      "Input shape:       torch.Size([32, 100])  # (batch_size, sequence_length)\n",
      "Prediction shape:  torch.Size([32, 100, 83]) # (batch_size, sequence_length, vocab_size)\n"
     ]
    }
   ],
   "source": [
    "# Test the model with some sample data\n",
    "\n",
    "x, y = get_batch(vectorized_songs, seq_length=100, batch_size=32)\n",
    "x = x.to(device)\n",
    "y = y.to(device)\n",
    "\n",
    "pred = model(x)\n",
    "print(\"Input shape:      \", x.shape, \" # (batch_size, sequence_length)\")\n",
    "print(\"Prediction shape: \", pred.shape, \"# (batch_size, sequence_length, vocab_size)\")"
   ]
  },
  {
   "cell_type": "markdown",
   "metadata": {},
   "source": [
    "- why do we need to predict from the categorical distribution to sample."
   ]
  },
  {
   "cell_type": "code",
   "execution_count": 24,
   "metadata": {},
   "outputs": [
    {
     "data": {
      "text/plain": [
       "array([73, 37,  0, 71, 76, 69, 71, 33, 76, 46, 49, 77, 29, 62, 34,  0, 60,\n",
       "       70, 18, 56, 80, 21, 66, 77, 47, 65, 54, 39, 27, 74,  1, 53, 65, 15,\n",
       "       65, 14, 72, 50, 73, 37,  5, 46, 80, 67, 12,  2, 33, 58, 54, 68, 56,\n",
       "       61,  8, 65, 53, 49, 38, 44, 27, 57, 64, 73, 35, 75, 73, 30, 45, 23,\n",
       "       65, 51, 45, 22, 74, 49, 42, 69, 48,  1, 19, 26, 61,  9, 47, 26, 13,\n",
       "        1, 81, 51, 34, 38, 57, 61, 79, 47, 47,  8, 68, 48, 68, 65],\n",
       "      dtype=int64)"
      ]
     },
     "execution_count": 24,
     "metadata": {},
     "output_type": "execute_result"
    }
   ],
   "source": [
    "sampled_indices = torch.multinomial(torch.softmax(pred[0], dim=-1), num_samples=1)\n",
    "sampled_indices = sampled_indices.squeeze(-1).cpu().numpy()\n",
    "sampled_indices"
   ]
  },
  {
   "cell_type": "code",
   "execution_count": 25,
   "metadata": {},
   "outputs": [
    {
     "name": "stdout",
     "output_type": "stream",
     "text": [
      "Input: \n",
      " \"!\\nBee2 fedB|egfe dBAF|DEFA dBAF|DEFD E3:|!\\n\\nX:357\\nT:Tommy Peoples'\\nZ: id:dc-reel-333\\nM:C\\nL:1/8\\nK:B M\"\n",
      "\n",
      "Next Char Predictions: \n",
      " \"rL\\npunpHuUXvDgI\\neo6ay9kvVj^NBs ]j3j2qYrL'Uyl0!Hc^maf,j]XMSBbirJtrET<jZT:sXQnW 7Af-VA1 zZIMbfxVV,mWmj\"\n"
     ]
    }
   ],
   "source": [
    "print(\"Input: \\n\", repr(\"\".join(idx2char[x[0].cpu()])))\n",
    "print()\n",
    "print(\"Next Char Predictions: \\n\", repr(\"\".join(idx2char[sampled_indices])))"
   ]
  },
  {
   "cell_type": "markdown",
   "metadata": {},
   "source": [
    "- this data as we see isn't predicting the correct next character, how can it be made better? Training the model! "
   ]
  },
  {
   "cell_type": "code",
   "execution_count": null,
   "metadata": {},
   "outputs": [],
   "source": [
    "### Defining the loss function ###\n",
    "\n",
    "# '''TODO: define the compute_loss function to compute and return the loss between\n",
    "#     the true labels and predictions (logits). '''\n",
    "cross_entropy = nn.CrossEntropyLoss() # instantiates the function\n",
    "def compute_loss(labels, logits):\n",
    "    \"\"\"\n",
    "    Inputs:\n",
    "      labels: (batch_size, sequence_length)\n",
    "      logits: (batch_size, sequence_length, vocab_size)\n",
    "\n",
    "    Output:\n",
    "      loss: scalar cross entropy loss over the batch and sequence length\n",
    "    \"\"\"\n",
    "\n",
    "    # Batch the labels so that the shape of the labels should be (B * L,)\n",
    "    batched_labels = labels.view(-1)\n",
    "\n",
    "    ''' TODO: Batch the logits so that the shape of the logits should be (B * L, V) '''\n",
    "    batched_logits = logits.view(-1) \n",
    "    \"\"\" TODO \"\"\" # TODO\n",
    "\n",
    "    '''TODO: Compute the cross-entropy loss using the batched  next characters and predictions'''\n",
    "    loss = cross_entropy(batched_logits,batched_labels)\n",
    "    return loss"
   ]
  },
  {
   "cell_type": "code",
   "execution_count": null,
   "metadata": {},
   "outputs": [],
   "source": [
    "### compute the loss on the predictions from the untrained model from earlier. ###\n",
    "y.shape  # (batch_size, sequence_length)\n",
    "pred.shape  # (batch_size, sequence_length, vocab_size)\n",
    "\n",
    "'''TODO: compute the loss using the true next characters from the example batch\n",
    "    and the predictions from the untrained model several cells above'''\n",
    "example_batch_loss = compute_loss(y, pred) # TODO\n",
    "\n",
    "print(f\"Prediction shape: {pred.shape} # (batch_size, sequence_length, vocab_size)\")\n",
    "print(f\"scalar_loss:      {example_batch_loss.mean().item()}\")"
   ]
  },
  {
   "cell_type": "code",
   "execution_count": null,
   "metadata": {},
   "outputs": [],
   "source": [
    "### Hyperparameter setting and optimization ###\n",
    "import os\n",
    "vocab_size = len(vocab)\n",
    "\n",
    "# Model parameters:\n",
    "params = dict(\n",
    "  num_training_iterations = 3000,  # Increase this to train longer\n",
    "  batch_size = 8,  # Experiment between 1 and 64\n",
    "  seq_length = 100,  # Experiment between 50 and 500\n",
    "  learning_rate = 5e-3,  # Experiment between 1e-5 and 1e-1\n",
    "  embedding_dim = 256,\n",
    "  hidden_size = 1024,  # Experiment between 1 and 2048\n",
    ")\n",
    "\n",
    "# Checkpoint location:\n",
    "checkpoint_dir = './training_checkpoints'\n",
    "checkpoint_prefix = os.path.join(checkpoint_dir, \"my_ckpt\")\n",
    "os.makedirs(checkpoint_dir, exist_ok=True)"
   ]
  },
  {
   "cell_type": "code",
   "execution_count": null,
   "metadata": {},
   "outputs": [],
   "source": [
    "## define optimizer and the training operation\n",
    "model = LSTMModel(params['seq_length'],params['embedding_dim'],params['hidden_size'])\n",
    "model.to(device)\n",
    "optimizer = optim.Adam(model.parameters(),params['learning_rate'])\n",
    "\n",
    "def train_step(x, y):\n",
    "  # Set the model's mode to train\n",
    "  model.train()\n",
    "  # Zero gradients for every step\n",
    "  optimizer.zero_grad()\n",
    "  # Forward pass\n",
    "  '''TODO: feed the current input into the model and generate predictions'''\n",
    "  y_hat = model(x)\n",
    "  # Compute the loss\n",
    "  '''TODO: compute the loss!'''\n",
    "  loss = compute_loss(y,y_hat)\n",
    "  # Backward pass\n",
    "  '''TODO: complete the gradient computation and update step.\n",
    "    Remember that in PyTorch there are two steps to the training loop:\n",
    "    1. Backpropagate the loss\n",
    "    2. Update the model parameters using the optimizer\n",
    "  '''\n",
    "  # find the grad of the loss\n",
    "  loss.backward()\n",
    "  optimizer.step()\n",
    "  \n",
    "  return loss\n",
    "\n",
    "history = []\n",
    "plotter = mdl.util.PeriodicPlotter(sec=2, xlabel='Iterations', ylabel='Loss')\n",
    "experiment = create_experiment()\n",
    "\n",
    "if hasattr(tqdm, '_instances'): tqdm._instances.clear() # clear if it exists\n",
    "for iter in tqdm(range(params[\"num_training_iterations\"])):\n",
    "\n",
    "    # Grab a batch and propagate it through the network\n",
    "    x_batch, y_batch = get_batch(vectorized_songs, params[\"seq_length\"], params[\"batch_size\"])\n",
    "\n",
    "    # Convert numpy arrays to PyTorch tensors\n",
    "    x_batch = torch.tensor(x_batch, dtype=torch.long).to(device)\n",
    "    y_batch = torch.tensor(y_batch, dtype=torch.long).to(device)\n",
    "\n",
    "    # Take a train step\n",
    "    loss = train_step(x_batch, y_batch)\n",
    "\n",
    "    # Log the loss to the Comet interface\n",
    "    experiment.log_metric(\"loss\", loss.item(), step=iter)\n",
    "\n",
    "    # Update the progress bar and visualize within notebook\n",
    "    history.append(loss.item())\n",
    "    plotter.plot(history)\n",
    "\n",
    "    # Save model checkpoint\n",
    "    if iter % 100 == 0:\n",
    "        torch.save(model.state_dict(), checkpoint_prefix)\n",
    "\n",
    "# Save the final trained model\n",
    "torch.save(model.state_dict(), checkpoint_prefix)\n",
    "experiment.flush()"
   ]
  },
  {
   "cell_type": "code",
   "execution_count": 26,
   "metadata": {},
   "outputs": [],
   "source": [
    "### Create a Comet experiment to track our training run ###\n",
    "\n",
    "def create_experiment():\n",
    "  # end any prior experiments\n",
    "  if 'experiment' in locals():\n",
    "    experiment.end()\n",
    "\n",
    "  # initiate the comet experiment for tracking\n",
    "  experiment = comet_ml.Experiment(\n",
    "                  api_key=COMET_API_KEY,\n",
    "                  project_name=\"6S191_Lab1_Part2\")\n",
    "  # log our hyperparameters, defined above, to the experiment\n",
    "  for param, value in params.items():\n",
    "    experiment.log_parameter(param, value)\n",
    "  experiment.flush()\n",
    "\n",
    "  return experiment"
   ]
  },
  {
   "cell_type": "markdown",
   "metadata": {},
   "source": [
    "## Give me a simple data which needs to be fed to RNN , i will first apply the data preprocessing.\n",
    "sentence = \"I love programming and the artificial intelligence\"\n",
    "step 1: tokenization\n",
    "step 2: vocabulary creation\n",
    "step 3: numerical encoding, but how?\n",
    "step 4: input and target sequences\n",
    "step 5: padding"
   ]
  },
  {
   "cell_type": "code",
   "execution_count": null,
   "metadata": {},
   "outputs": [
    {
     "name": "stdout",
     "output_type": "stream",
     "text": [
      "Vocabulary (word to index): {'I': 0, 'love': 1, 'machine': 2, 'learning': 3, 'and': 4, 'artificial': 5, 'intelligence.': 6}\n",
      "Encoded Data: [0, 1, 2, 3, 4, 5, 6]\n",
      "Embeddings Shape: torch.Size([7, 8])\n",
      "Embeddings:\n",
      "tensor([[ 0.4897,  2.0657, -1.6545,  0.8639, -0.9981, -0.5676, -0.0398, -1.6505],\n",
      "        [ 0.3315, -2.8302, -0.0334, -0.2669, -1.5473,  0.2918,  1.6548,  0.0204],\n",
      "        [-0.3538,  0.4534, -1.7879,  2.0494,  0.4566,  1.6449, -1.2526,  2.7362],\n",
      "        [ 1.4092,  0.3717, -1.7387,  1.0052,  0.6025,  0.0623,  0.4721, -0.8658],\n",
      "        [ 1.1505, -0.6553,  0.3737,  1.2305, -0.0820,  0.3193, -0.6720, -0.0614],\n",
      "        [-1.4942,  0.5852, -0.4864,  0.4107,  0.5174,  2.0180, -0.0797,  0.0875],\n",
      "        [-0.4090, -0.5345,  0.1570,  2.1780,  0.7160,  1.2304,  1.1751, -0.8326]],\n",
      "       grad_fn=<EmbeddingBackward0>)\n"
     ]
    }
   ],
   "source": [
    "import torch.nn as nn\n",
    "input_sentence=\"I love machine learning and artificial intelligence.\"\n",
    "input_ar = np.array(input_sentence.split(\" \"))\n",
    "vocabulary  = {v:k for k ,v in enumerate(input_ar)}\n",
    "encoded_data = list(vocabulary.values())\n",
    "vocab_size = len(vocabulary)\n",
    "\n",
    "encoded_data_tensor = torch.tensor(encoded_data,dtype=torch.long)\n",
    "\n",
    "embedding_dim = 8 # what is the meaning of this ?\n",
    "embedding_layer = nn.Embedding(num_embeddings=vocab_size,embedding_dim=embedding_dim)\n",
    "\n",
    "# Forward pass: Generate embeddings for the input sequence\n",
    "embeddings = embedding_layer(encoded_data_tensor)\n",
    "\n",
    "print(\"Vocabulary (word to index):\", vocabulary)\n",
    "print(\"Encoded Data:\", encoded_data)\n",
    "print(\"Embeddings Shape:\", embeddings.shape)  # Should be (sequence_length, embedding_dim)\n",
    "print(\"Embeddings:\")\n",
    "print(embeddings)\n",
    "\n",
    "\n"
   ]
  },
  {
   "cell_type": "code",
   "execution_count": 84,
   "metadata": {},
   "outputs": [],
   "source": [
    "from sklearn.preprocessing import LabelEncoder\n",
    "label_encoder = LabelEncoder()\n",
    "encoded_data = label_encoder.fit_transform(input_ar)"
   ]
  },
  {
   "cell_type": "code",
   "execution_count": 85,
   "metadata": {},
   "outputs": [
    {
     "data": {
      "text/plain": [
       "array([0, 5, 6, 4, 1, 2, 3], dtype=int64)"
      ]
     },
     "execution_count": 85,
     "metadata": {},
     "output_type": "execute_result"
    }
   ],
   "source": [
    "encoded_data"
   ]
  },
  {
   "cell_type": "code",
   "execution_count": null,
   "metadata": {},
   "outputs": [],
   "source": []
  },
  {
   "cell_type": "code",
   "execution_count": null,
   "metadata": {},
   "outputs": [
    {
     "name": "stdout",
     "output_type": "stream",
     "text": [
      "res is  80\n"
     ]
    }
   ],
   "source": [
    "# use of the Call dunder method in python\n",
    "class MyCallable:\n",
    "    def __init__(self,factor):\n",
    "        self.factor = factor\n",
    "    \n",
    "    def __call__(self,x):\n",
    "        return x * self.factor\n",
    "    \n",
    "m = MyCallable(10)\n",
    "res = m(8)\n",
    "print(\"res is \",res)"
   ]
  },
  {
   "cell_type": "code",
   "execution_count": 87,
   "metadata": {},
   "outputs": [
    {
     "data": {
      "text/plain": [
       "{'I': 0,\n",
       " 'love': 1,\n",
       " 'machine': 2,\n",
       " 'learning': 3,\n",
       " 'and': 4,\n",
       " 'artificial': 5,\n",
       " 'intelligence.': 6}"
      ]
     },
     "execution_count": 87,
     "metadata": {},
     "output_type": "execute_result"
    }
   ],
   "source": [
    "vocabulary"
   ]
  },
  {
   "cell_type": "code",
   "execution_count": 80,
   "metadata": {},
   "outputs": [
    {
     "data": {
      "text/plain": [
       "tensor([[59, 60, 59,  1, 32]])"
      ]
     },
     "execution_count": 80,
     "metadata": {},
     "output_type": "execute_result"
    }
   ],
   "source": [
    "x_batch"
   ]
  },
  {
   "cell_type": "code",
   "execution_count": 44,
   "metadata": {},
   "outputs": [
    {
     "name": "stdout",
     "output_type": "stream",
     "text": [
      "Collecting opencv-python\n",
      "  Downloading opencv_python-4.11.0.86-cp37-abi3-win_amd64.whl.metadata (20 kB)\n",
      "Requirement already satisfied: numpy>=1.21.2 in c:\\users\\pantm\\appdata\\local\\packages\\pythonsoftwarefoundation.python.3.11_qbz5n2kfra8p0\\localcache\\local-packages\\python311\\site-packages (from opencv-python) (1.26.4)\n",
      "Downloading opencv_python-4.11.0.86-cp37-abi3-win_amd64.whl (39.5 MB)\n",
      "   ---------------------------------------- 0.0/39.5 MB ? eta -:--:--\n",
      "   ---------------------------------------- 0.0/39.5 MB 640.0 kB/s eta 0:01:02\n",
      "   ---------------------------------------- 0.3/39.5 MB 3.3 MB/s eta 0:00:12\n",
      "    --------------------------------------- 0.7/39.5 MB 5.9 MB/s eta 0:00:07\n",
      "   - -------------------------------------- 1.2/39.5 MB 7.1 MB/s eta 0:00:06\n",
      "   - -------------------------------------- 1.7/39.5 MB 7.6 MB/s eta 0:00:05\n",
      "   -- ------------------------------------- 2.1/39.5 MB 8.5 MB/s eta 0:00:05\n",
      "   -- ------------------------------------- 2.6/39.5 MB 8.6 MB/s eta 0:00:05\n",
      "   --- ------------------------------------ 3.1/39.5 MB 9.0 MB/s eta 0:00:05\n",
      "   --- ------------------------------------ 3.5/39.5 MB 9.8 MB/s eta 0:00:04\n",
      "   ---- ----------------------------------- 4.1/39.5 MB 9.6 MB/s eta 0:00:04\n",
      "   ---- ----------------------------------- 4.5/39.5 MB 9.6 MB/s eta 0:00:04\n",
      "   ----- ---------------------------------- 5.0/39.5 MB 9.6 MB/s eta 0:00:04\n",
      "   ----- ---------------------------------- 5.4/39.5 MB 9.9 MB/s eta 0:00:04\n",
      "   ------ --------------------------------- 5.9/39.5 MB 9.7 MB/s eta 0:00:04\n",
      "   ------ --------------------------------- 6.4/39.5 MB 10.0 MB/s eta 0:00:04\n",
      "   ------ --------------------------------- 6.8/39.5 MB 10.1 MB/s eta 0:00:04\n",
      "   ------- -------------------------------- 7.0/39.5 MB 10.0 MB/s eta 0:00:04\n",
      "   ------- -------------------------------- 7.5/39.5 MB 9.8 MB/s eta 0:00:04\n",
      "   ------- -------------------------------- 7.9/39.5 MB 9.7 MB/s eta 0:00:04\n",
      "   -------- ------------------------------- 8.4/39.5 MB 9.8 MB/s eta 0:00:04\n",
      "   --------- ------------------------------ 8.9/39.5 MB 9.8 MB/s eta 0:00:04\n",
      "   --------- ------------------------------ 9.4/39.5 MB 10.0 MB/s eta 0:00:04\n",
      "   --------- ------------------------------ 9.9/39.5 MB 10.0 MB/s eta 0:00:03\n",
      "   ---------- ----------------------------- 10.3/39.5 MB 10.4 MB/s eta 0:00:03\n",
      "   ---------- ----------------------------- 10.8/39.5 MB 10.9 MB/s eta 0:00:03\n",
      "   ----------- ---------------------------- 11.3/39.5 MB 10.7 MB/s eta 0:00:03\n",
      "   ----------- ---------------------------- 11.8/39.5 MB 10.7 MB/s eta 0:00:03\n",
      "   ------------ --------------------------- 12.2/39.5 MB 10.7 MB/s eta 0:00:03\n",
      "   ------------ --------------------------- 12.6/39.5 MB 10.7 MB/s eta 0:00:03\n",
      "   ------------- -------------------------- 13.1/39.5 MB 10.7 MB/s eta 0:00:03\n",
      "   ------------- -------------------------- 13.7/39.5 MB 10.7 MB/s eta 0:00:03\n",
      "   -------------- ------------------------- 14.0/39.5 MB 10.7 MB/s eta 0:00:03\n",
      "   -------------- ------------------------- 14.5/39.5 MB 10.6 MB/s eta 0:00:03\n",
      "   --------------- ------------------------ 15.0/39.5 MB 10.9 MB/s eta 0:00:03\n",
      "   --------------- ------------------------ 15.5/39.5 MB 10.7 MB/s eta 0:00:03\n",
      "   ---------------- ----------------------- 16.0/39.5 MB 10.7 MB/s eta 0:00:03\n",
      "   ---------------- ----------------------- 16.5/39.5 MB 10.9 MB/s eta 0:00:03\n",
      "   ----------------- ---------------------- 16.8/39.5 MB 10.7 MB/s eta 0:00:03\n",
      "   ----------------- ---------------------- 17.2/39.5 MB 10.7 MB/s eta 0:00:03\n",
      "   ----------------- ---------------------- 17.7/39.5 MB 10.9 MB/s eta 0:00:02\n",
      "   ------------------ --------------------- 18.3/39.5 MB 10.9 MB/s eta 0:00:02\n",
      "   ------------------ --------------------- 18.6/39.5 MB 10.7 MB/s eta 0:00:02\n",
      "   ------------------- -------------------- 19.0/39.5 MB 10.9 MB/s eta 0:00:02\n",
      "   ------------------- -------------------- 19.5/39.5 MB 10.9 MB/s eta 0:00:02\n",
      "   -------------------- ------------------- 20.1/39.5 MB 10.9 MB/s eta 0:00:02\n",
      "   -------------------- ------------------- 20.6/39.5 MB 10.9 MB/s eta 0:00:02\n",
      "   --------------------- ------------------ 21.0/39.5 MB 11.1 MB/s eta 0:00:02\n",
      "   --------------------- ------------------ 21.5/39.5 MB 10.9 MB/s eta 0:00:02\n",
      "   ---------------------- ----------------- 21.9/39.5 MB 10.7 MB/s eta 0:00:02\n",
      "   ---------------------- ----------------- 22.4/39.5 MB 10.9 MB/s eta 0:00:02\n",
      "   ----------------------- ---------------- 22.9/39.5 MB 11.1 MB/s eta 0:00:02\n",
      "   ----------------------- ---------------- 23.3/39.5 MB 10.9 MB/s eta 0:00:02\n",
      "   ------------------------ --------------- 23.8/39.5 MB 10.9 MB/s eta 0:00:02\n",
      "   ------------------------ --------------- 24.3/39.5 MB 10.9 MB/s eta 0:00:02\n",
      "   ------------------------- -------------- 24.7/39.5 MB 10.9 MB/s eta 0:00:02\n",
      "   ------------------------- -------------- 25.3/39.5 MB 10.9 MB/s eta 0:00:02\n",
      "   -------------------------- ------------- 25.7/39.5 MB 10.9 MB/s eta 0:00:02\n",
      "   -------------------------- ------------- 26.2/39.5 MB 10.9 MB/s eta 0:00:02\n",
      "   --------------------------- ------------ 26.7/39.5 MB 10.9 MB/s eta 0:00:02\n",
      "   --------------------------- ------------ 27.1/39.5 MB 10.9 MB/s eta 0:00:02\n",
      "   --------------------------- ------------ 27.4/39.5 MB 10.7 MB/s eta 0:00:02\n",
      "   ---------------------------- ----------- 27.8/39.5 MB 10.6 MB/s eta 0:00:02\n",
      "   ---------------------------- ----------- 28.0/39.5 MB 10.2 MB/s eta 0:00:02\n",
      "   ---------------------------- ----------- 28.3/39.5 MB 10.2 MB/s eta 0:00:02\n",
      "   ---------------------------- ----------- 28.5/39.5 MB 9.9 MB/s eta 0:00:02\n",
      "   ----------------------------- ---------- 28.8/39.5 MB 9.9 MB/s eta 0:00:02\n",
      "   ----------------------------- ---------- 29.0/39.5 MB 9.5 MB/s eta 0:00:02\n",
      "   ----------------------------- ---------- 29.2/39.5 MB 9.4 MB/s eta 0:00:02\n",
      "   ----------------------------- ---------- 29.5/39.5 MB 9.4 MB/s eta 0:00:02\n",
      "   ------------------------------ --------- 29.9/39.5 MB 9.2 MB/s eta 0:00:02\n",
      "   ------------------------------ --------- 30.2/39.5 MB 9.1 MB/s eta 0:00:02\n",
      "   ------------------------------ --------- 30.5/39.5 MB 8.8 MB/s eta 0:00:02\n",
      "   ------------------------------- -------- 30.7/39.5 MB 8.6 MB/s eta 0:00:02\n",
      "   ------------------------------- -------- 30.9/39.5 MB 8.6 MB/s eta 0:00:01\n",
      "   ------------------------------- -------- 31.1/39.5 MB 8.4 MB/s eta 0:00:01\n",
      "   -------------------------------- ------- 31.6/39.5 MB 8.4 MB/s eta 0:00:01\n",
      "   -------------------------------- ------- 32.0/39.5 MB 8.3 MB/s eta 0:00:01\n",
      "   -------------------------------- ------- 32.3/39.5 MB 8.1 MB/s eta 0:00:01\n",
      "   --------------------------------- ------ 32.7/39.5 MB 8.2 MB/s eta 0:00:01\n",
      "   --------------------------------- ------ 33.2/39.5 MB 8.1 MB/s eta 0:00:01\n",
      "   ---------------------------------- ----- 33.6/39.5 MB 8.1 MB/s eta 0:00:01\n",
      "   ---------------------------------- ----- 33.8/39.5 MB 7.8 MB/s eta 0:00:01\n",
      "   ---------------------------------- ----- 34.3/39.5 MB 7.8 MB/s eta 0:00:01\n",
      "   ----------------------------------- ---- 34.6/39.5 MB 7.8 MB/s eta 0:00:01\n",
      "   ----------------------------------- ---- 34.9/39.5 MB 7.7 MB/s eta 0:00:01\n",
      "   ----------------------------------- ---- 35.2/39.5 MB 7.6 MB/s eta 0:00:01\n",
      "   ----------------------------------- ---- 35.5/39.5 MB 7.4 MB/s eta 0:00:01\n",
      "   ------------------------------------ --- 35.9/39.5 MB 7.6 MB/s eta 0:00:01\n",
      "   ------------------------------------ --- 36.5/39.5 MB 7.5 MB/s eta 0:00:01\n",
      "   ------------------------------------- -- 36.9/39.5 MB 7.5 MB/s eta 0:00:01\n",
      "   ------------------------------------- -- 37.4/39.5 MB 7.7 MB/s eta 0:00:01\n",
      "   -------------------------------------- - 37.9/39.5 MB 7.8 MB/s eta 0:00:01\n",
      "   -------------------------------------- - 38.2/39.5 MB 7.9 MB/s eta 0:00:01\n",
      "   ---------------------------------------  38.7/39.5 MB 8.2 MB/s eta 0:00:01\n",
      "   ---------------------------------------  39.2/39.5 MB 8.4 MB/s eta 0:00:01\n",
      "   ---------------------------------------  39.5/39.5 MB 8.5 MB/s eta 0:00:01\n",
      "   ---------------------------------------  39.5/39.5 MB 8.5 MB/s eta 0:00:01\n",
      "   ---------------------------------------  39.5/39.5 MB 8.5 MB/s eta 0:00:01\n",
      "   ---------------------------------------  39.5/39.5 MB 8.5 MB/s eta 0:00:01\n",
      "   ---------------------------------------  39.5/39.5 MB 8.5 MB/s eta 0:00:01\n",
      "   ---------------------------------------- 39.5/39.5 MB 7.3 MB/s eta 0:00:00\n",
      "Installing collected packages: opencv-python\n",
      "Successfully installed opencv-python-4.11.0.86\n",
      "Note: you may need to restart the kernel to use updated packages.\n"
     ]
    },
    {
     "name": "stderr",
     "output_type": "stream",
     "text": [
      "\n",
      "[notice] A new release of pip is available: 24.0 -> 25.0.1\n",
      "[notice] To update, run: C:\\Users\\pantm\\AppData\\Local\\Microsoft\\WindowsApps\\PythonSoftwareFoundation.Python.3.11_qbz5n2kfra8p0\\python.exe -m pip install --upgrade pip\n"
     ]
    }
   ],
   "source": [
    "pip install opencv-python\n"
   ]
  }
 ],
 "metadata": {
  "kernelspec": {
   "display_name": "Python 3",
   "language": "python",
   "name": "python3"
  },
  "language_info": {
   "codemirror_mode": {
    "name": "ipython",
    "version": 3
   },
   "file_extension": ".py",
   "mimetype": "text/x-python",
   "name": "python",
   "nbconvert_exporter": "python",
   "pygments_lexer": "ipython3",
   "version": "3.11.9"
  }
 },
 "nbformat": 4,
 "nbformat_minor": 2
}
