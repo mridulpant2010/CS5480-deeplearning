{
 "cells": [
  {
   "cell_type": "code",
   "execution_count": 6,
   "metadata": {},
   "outputs": [
    {
     "name": "stdout",
     "output_type": "stream",
     "text": [
      "TF-IDF matrix\n",
      "  (0, 5)\t0.6317450542765208\n",
      "  (0, 0)\t0.4804583972923858\n",
      "  (0, 3)\t0.3731188059313277\n",
      "  (0, 2)\t0.4804583972923858\n",
      "  (1, 3)\t0.34520501686496574\n",
      "  (1, 2)\t0.444514311537431\n",
      "  (1, 1)\t0.5844829010200651\n",
      "  (1, 4)\t0.5844829010200651\n",
      "  (2, 0)\t0.444514311537431\n",
      "  (2, 3)\t0.34520501686496574\n",
      "  (2, 7)\t0.5844829010200651\n",
      "  (2, 6)\t0.5844829010200651\n",
      "<class 'scipy.sparse._csr.csr_matrix'>\n",
      "[[0.4804584  0.         0.4804584  0.37311881 0.         0.63174505\n",
      "  0.         0.        ]\n",
      " [0.         0.5844829  0.44451431 0.34520502 0.5844829  0.\n",
      "  0.         0.        ]\n",
      " [0.44451431 0.         0.         0.34520502 0.         0.\n",
      "  0.5844829  0.5844829 ]]\n"
     ]
    }
   ],
   "source": [
    "from sklearn.feature_extraction.text import TfidfVectorizer\n",
    "\n",
    "vectorizer = TfidfVectorizer()\n",
    "corpus = [\n",
    "    \"I like to eat healthy food.\",\n",
    "    \"Food is essential for a healthy life.\",\n",
    "    \"I prefer to eat healthy meals.\"\n",
    "]\n",
    "vectorizer = TfidfVectorizer(stop_words='english')  # Remove common stop words\n",
    "X = vectorizer.fit_transform(corpus)\n",
    "print(\"TF-IDF matrix\")\n",
    "print(X)\n",
    "print(type(X))\n",
    "\n",
    "result = X.toarray()\n",
    "print(result)"
   ]
  },
  {
   "cell_type": "code",
   "execution_count": 10,
   "metadata": {},
   "outputs": [
    {
     "name": "stdout",
     "output_type": "stream",
     "text": [
      "[[ 0.82414414  0.        ]\n",
      " [ 0.65886672  0.66363902]\n",
      " [ 0.65886672 -0.66363902]]\n"
     ]
    }
   ],
   "source": [
    "from sklearn.decomposition import TruncatedSVD\n",
    "svd=TruncatedSVD(n_components=2)\n",
    "x_reduced =svd.fit_transform(X)\n",
    "print(x_reduced)"
   ]
  },
  {
   "cell_type": "code",
   "execution_count": null,
   "metadata": {},
   "outputs": [],
   "source": [
    "from sklearn.linear_model import LogisticRegression\n",
    "from sklearn.multioutput import MultiOutputClassifier\n",
    "from sklearn.metrics import accuracy_score\n",
    "def data_preprocessing(X,y):\n",
    "    vectorizer = TfidfVectorizer(max_features=5000, stop_words='english')\n",
    "    X_train, X_test, y_train,y_test = train_test_split(X,y,test_size=0.2,random_state=42)\n",
    "    X_tfidf = vectorizer.fit_transform(X_train)\n",
    "    X_test_tfidf = vectorizer.transform(X_test)\n",
    "    \n",
    "    base_model = LogisticRegression(multi_class='multinomial',solver='lbfgs',max_iter=1000,C=1.0)\n",
    "    multi_model = MultiOutputClassifier(base_model)\n",
    "    multi_model.fit(X_tfidf,y_train)\n",
    "    y_pred = multi_model.predict(X_test_tfidf)\n",
    "    print(\"Accuracy is: \",accuracy_score(y_test,y_pred))\n",
    "    \n",
    "data_preprocessing(X,y)\n"
   ]
  },
  {
   "cell_type": "code",
   "execution_count": null,
   "metadata": {},
   "outputs": [],
   "source": [
    "from sklearn.neural_network import  MLPClassifier\n",
    "\n",
    "mlp_classifier = MLPClassifier(\n",
    "    hidden_layer_sizes=(3,),#(128, 64, 32),  # Three hidden layers\n",
    "    activation='tanh',                 # ReLU activation function\n",
    "    solver='sgd',                     # Adam optimizer\n",
    "    alpha=0.0001,                      # L2 regularization parameter\n",
    "    batch_size='auto',                 # Automatic batch size\n",
    "    learning_rate='adaptive',          # Adaptive learning rate\n",
    "    max_iter=1000,                     # Maximum number of iterations\n",
    "    random_state=42,                   # For reproducibility\n",
    "    verbose=True                       # Print progress\n",
    ")\n",
    "\n",
    "mlp_classifier.fit(X_tfidf,y_train)\n",
    "y_pred = mlp_classifier.predict(X_test_tfidf)\n",
    "print(\"Accuracy:\", accuracy_score(y_test, y_pred))\n",
    "print(\"\\nClassification Report:\\n\", classification_report(y_test, y_pred))"
   ]
  },
  {
   "cell_type": "code",
   "execution_count": null,
   "metadata": {},
   "outputs": [
    {
     "data": {
      "text/plain": [
       "array([5, 0, 3, 2, 3, 2, 1, 4, 0, 3, 7, 6])"
      ]
     },
     "execution_count": 8,
     "metadata": {},
     "output_type": "execute_result"
    }
   ],
   "source": [
    "import numpy as np\n",
    "import pandas as pd\n",
    "from collections import Counter\n",
    "\n",
    "# Sample corpus\n",
    "corpus = [\n",
    "    \"I love natural language processing\",\n",
    "    \"Language models are fascinating\",\n",
    "    \"Natural language processing is fun\"\n",
    "]\n",
    "\n",
    "# Preprocessing: Tokenize and build vocabulary\n",
    "tokens = [sentence.lower().split() for sentence in corpus]\n",
    "vocab = set(word for sentence in tokens for word in sentence)\n",
    "vocab = list(vocab)\n",
    "\n",
    "# Create co-occurrence matrix\n",
    "co_occurrence = np.zeros((len(vocab), len(vocab)))\n",
    "window_size = 2\n",
    "\n",
    "for sentence in tokens:\n",
    "    for i, word in enumerate(sentence):\n",
    "        for j in range(max(0, i - window_size), min(len(sentence), i + window_size + 1)):\n",
    "            if i != j:\n",
    "                co_occurrence[vocab.index(word), vocab.index(sentence[j])] += 1\n",
    "\n",
    "print(co_occurrence.shape,len(vocab))\n",
    "\n",
    "# Convert to probabilities\n",
    "total_count = np.sum(co_occurrence)\n",
    "p_w_c = co_occurrence / total_count\n",
    "p_w = np.sum(p_w_c, axis=1)\n",
    "p_c = np.sum(p_w_c, axis=0)\n",
    "\n",
    "# Compute PMI\n",
    "pmi = np.log2(p_w_c / (p_w[:, None] * p_c[None, :]) + 1e-10)  # Add small value to avoid division by zero\n",
    "\n",
    "# Apply PPMI\n",
    "ppmi = np.maximum(pmi, 0)\n",
    "\n",
    "# Convert to DataFrame for better readability\n",
    "ppmi_df = pd.DataFrame(ppmi, index=vocab, columns=vocab)\n",
    "\n",
    "print(\"PPMI Matrix:\")\n",
    "print(ppmi_df)\n"
   ]
  }
 ],
 "metadata": {
  "kernelspec": {
   "display_name": "Python 3",
   "language": "python",
   "name": "python3"
  },
  "language_info": {
   "codemirror_mode": {
    "name": "ipython",
    "version": 3
   },
   "file_extension": ".py",
   "mimetype": "text/x-python",
   "name": "python",
   "nbconvert_exporter": "python",
   "pygments_lexer": "ipython3",
   "version": "3.11.9"
  }
 },
 "nbformat": 4,
 "nbformat_minor": 2
}
